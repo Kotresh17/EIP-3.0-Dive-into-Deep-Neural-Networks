{
  "nbformat": 4,
  "nbformat_minor": 0,
  "metadata": {
    "colab": {
      "name": "Backpropagation_StepbyStep.ipynb",
      "version": "0.3.2",
      "provenance": [],
      "include_colab_link": true
    },
    "kernelspec": {
      "name": "python3",
      "display_name": "Python 3"
    }
  },
  "cells": [
    {
      "cell_type": "markdown",
      "metadata": {
        "id": "view-in-github",
        "colab_type": "text"
      },
      "source": [
        "<a href=\"https://colab.research.google.com/github/sin2akshay/External-Internship-Program-2.0-Machine-Learning-for-Deep-Neural-Networks/blob/master/Session%202/Assignment2A2B_Backpropagation_StepbyStep.ipynb\" target=\"_parent\"><img src=\"https://colab.research.google.com/assets/colab-badge.svg\" alt=\"Open In Colab\"/></a>"
      ]
    },
    {
      "metadata": {
        "id": "oiz5dW0nsDqV",
        "colab_type": "text"
      },
      "cell_type": "markdown",
      "source": [
        "#Assignment 2A"
      ]
    },
    {
      "metadata": {
        "id": "T-epFQmNQ0C5",
        "colab_type": "text"
      },
      "cell_type": "markdown",
      "source": [
        "## Backpropagation Step by Step"
      ]
    },
    {
      "metadata": {
        "id": "E5M25fbKRCW-",
        "colab_type": "text"
      },
      "cell_type": "markdown",
      "source": [
        "![Backprop](https://hmkcode.github.io/images/ai/backpropagation.png)\n",
        "\n",
        "If you are building your own neural network, you will definitely need to understand how to train it. Backpropagation is a commonly used technique for training neural network. There are many resources explaining the technique, but this post will explain backpropagation with concrete example in a very detailed colorful steps. "
      ]
    },
    {
      "metadata": {
        "id": "S_o6RMWERwKY",
        "colab_type": "text"
      },
      "cell_type": "markdown",
      "source": [
        "## Overview\n",
        "\n",
        "In this post, we will build a neural network with three layers:\n",
        "\n",
        "- **Input** layer with two inputs neurons\n",
        "- One **hidden** layer with two neurons\n",
        "- **Output** layer with a single neuron\n",
        "\n",
        "![NeuralNet](https://hmkcode.github.io/images/ai/nn1.png)\n"
      ]
    },
    {
      "metadata": {
        "id": "DsCsa0DGSMP-",
        "colab_type": "text"
      },
      "cell_type": "markdown",
      "source": [
        "## Weights, weights, weights\n",
        "\n",
        "Neural network training is about finding weights that minimize prediction error. We usually start our training with a set of randomly generated weights.Then, backpropagation is used to update the weights in an attempt to correctly map arbitrary inputs to outputs.\n",
        "\n"
      ]
    },
    {
      "metadata": {
        "id": "Dsh-bLBFSxaE",
        "colab_type": "text"
      },
      "cell_type": "markdown",
      "source": [
        "Our initial weights will be as following: \n",
        "\n",
        "```\n",
        "w1 = 0.13\n",
        "w2 = 0.19\n",
        "w3 = 0.15\n",
        "w4 = 0.06\n",
        "w5 = 0.12\n",
        "w6 = 0.17\n",
        "```\n",
        "\n",
        "![](https://2.bp.blogspot.com/-81ULUwQGv0M/XHvMOEzjUdI/AAAAAAAAYgE/7z4DrUEb77s1yjvOPpUwm5SnvAxAuvNAQCLcBGAs/s1600/bp_weights.png)"
      ]
    },
    {
      "metadata": {
        "id": "48PG67YcS6WO",
        "colab_type": "text"
      },
      "cell_type": "markdown",
      "source": [
        "## Dataset\n",
        "\n",
        "Our dataset has one sample with two inputs and one output.\n",
        "\n",
        "![](https://hmkcode.github.io/images/ai/bp_dataset.png)\n",
        "\n"
      ]
    },
    {
      "metadata": {
        "id": "sS5d9N8HTNKI",
        "colab_type": "text"
      },
      "cell_type": "markdown",
      "source": [
        "Our single sample is as following `inputs=[2, 3]` and `output=[1]`.\n",
        "\n",
        "![](https://hmkcode.github.io/images/ai/bp_sample.png)"
      ]
    },
    {
      "metadata": {
        "id": "Lzyjl_KsTbaJ",
        "colab_type": "text"
      },
      "cell_type": "markdown",
      "source": [
        "## Forward Pass\n",
        "\n",
        "We will use given weights and inputs to predict the output. Inputs are multiplied by weights; the results are then passed forward to next layer.\n",
        "\n",
        "![](https://3.bp.blogspot.com/-WDGfB_upiiE/XHvOEmOHcwI/AAAAAAAAYgQ/CLDzVvqrTdkT6m0R4slUhKZS9wHWfnmkQCLcBGAs/s1600/bp_forward.png)"
      ]
    },
    {
      "metadata": {
        "id": "lfSnrKGmO4MJ",
        "colab_type": "text"
      },
      "cell_type": "markdown",
      "source": [
        "$\n",
        "\\begin{bmatrix}\n",
        "2 & 3\n",
        "\\end{bmatrix}.\n",
        "\\begin{bmatrix}\n",
        "0.13 & 0.15 \\\\\n",
        "0.19 & 0.06 \\\\\n",
        "\\end{bmatrix} = \\begin{bmatrix}\n",
        "0.83 & 0.48\n",
        "\\end{bmatrix}.\\begin{bmatrix}\n",
        "0.12\\\\\n",
        "0.17\n",
        "\\end{bmatrix} = \\begin{bmatrix}\n",
        "0.181\n",
        "\\end{bmatrix}\n",
        "$"
      ]
    },
    {
      "metadata": {
        "id": "lhvxMDVbTv7v",
        "colab_type": "text"
      },
      "cell_type": "markdown",
      "source": [
        "## Calculating Error\n",
        "\n",
        "Now, it’s time to find out how our network performed by calculating the difference between the actual output and predicted one. It’s clear that our network output, or **prediction**, is not even close to **actual output**. We can calculate the difference or the error as following.\n",
        "\n",
        "![](https://1.bp.blogspot.com/-cfxItJzvRGI/XHvPWUL-UOI/AAAAAAAAYgc/pnEooDdN7F4xAtZQkSkrGYSG_UWYomm2ACLcBGAs/s1600/bp_error.png)"
      ]
    },
    {
      "metadata": {
        "id": "kG_ECLgQqbOa",
        "colab_type": "text"
      },
      "cell_type": "markdown",
      "source": [
        "####Error = ((0.181 - 1)**2) / 2 = 0.335"
      ]
    },
    {
      "metadata": {
        "id": "VzOYupwpUBfw",
        "colab_type": "text"
      },
      "cell_type": "markdown",
      "source": [
        "## Reducing Error\n",
        "\n",
        "Our main goal of the training is to reduce the **error** or the difference between **prediction** and **actual output**. Since actual output is constant, “not changing”, the only way to reduce the error is to change prediction value. The question now is, how to change prediction value?"
      ]
    },
    {
      "metadata": {
        "id": "zH9JSygrUv6N",
        "colab_type": "text"
      },
      "cell_type": "markdown",
      "source": [
        "By decomposing **prediction** into its basic elements we can find that **weights** are the variable elements affecting **prediction** value. In other words, in order to change **prediction** value, we need to change **weights** values.\n",
        "\n",
        "![](https://hmkcode.github.io/images/ai/bp_prediction_elements.png)\n",
        "\n"
      ]
    },
    {
      "metadata": {
        "id": "MdNAAkbrVBKv",
        "colab_type": "text"
      },
      "cell_type": "markdown",
      "source": [
        "\n",
        "\n",
        "> The question now is how to change\\update the weights value so that the error is reduced?\n",
        "\n",
        "> The answer is **Backpropagation**!\n",
        "\n",
        "\n",
        "\n"
      ]
    },
    {
      "metadata": {
        "id": "BNIGIaHDVVA-",
        "colab_type": "text"
      },
      "cell_type": "markdown",
      "source": [
        "## Backpropagation\n",
        "\n",
        "**Backpropagation**, short for “backward propagation of errors”, is a mechanism used to update the **weights** using gradient descent. It calculates the gradient of the error function with respect to the neural network’s weights. The calculation proceeds backwards through the network.\n",
        "\n",
        "`**Gradient** descent is an iterative optimization algorithm for finding the minimum of a function; in our case we want to minimize the error function. To find a local minimum of a function using gradient descent, one takes steps proportional to the negative of the gradient of the function at the current point.`\n",
        "\n",
        "![](https://hmkcode.github.io/images/ai/bp_update_formula.png)"
      ]
    },
    {
      "metadata": {
        "id": "ngG3QSMkWGP4",
        "colab_type": "text"
      },
      "cell_type": "markdown",
      "source": [
        "For example, to update `w6`, we take the current `w6` and subtract the partial derivative of error function with respect to `w6`. Optionally, we multiply the derivative of the error function by a selected number to make sure that the new updated weight is minimizing the error function; this number is called **learning rate**.\n",
        "\n",
        "![](https://hmkcode.github.io/images/ai/bp_w6_update.png)"
      ]
    },
    {
      "metadata": {
        "id": "KheTNm6XWuGQ",
        "colab_type": "text"
      },
      "cell_type": "markdown",
      "source": [
        "The derivation of the error function is evaluated by applying the chain rule as following:\n",
        "\n",
        "![](https://hmkcode.github.io/images/ai/bp_error_function_partial_derivative_w6.png)"
      ]
    },
    {
      "metadata": {
        "id": "cF0v2ZtMW2em",
        "colab_type": "text"
      },
      "cell_type": "markdown",
      "source": [
        "So to update `w6` we can apply the following formula\n",
        "\n",
        "![](https://hmkcode.github.io/images/ai/bp_w6_update_closed_form.png)\n",
        "\n",
        "Similarly, we can derive the update formula for `w5` and any other weights existing between the output and the hidden layer.\n",
        "\n",
        "![](https://hmkcode.github.io/images/ai/bp_w5_update_closed_form.png)"
      ]
    },
    {
      "metadata": {
        "id": "Z62zNfZ3ZLLB",
        "colab_type": "text"
      },
      "cell_type": "markdown",
      "source": [
        "However, when moving backward to update `w1, w2, w3` and `w4` existing between input and hidden layer, the partial derivative for the error function with respect to `w1`, for example, will be as following.\n",
        "\n",
        "![](https://hmkcode.github.io/images/ai/bp_error_function_partial_derivative_w1.png)\n",
        "\n",
        "We can find the update formula for the remaining weights `w2, w3` and `w4` in the same way."
      ]
    },
    {
      "metadata": {
        "id": "4QfhSsNtZXQu",
        "colab_type": "text"
      },
      "cell_type": "markdown",
      "source": [
        "In summary, the update formulas for all weights will be as following:\n",
        "\n",
        "![](https://hmkcode.github.io/images/ai/bp_update_all_weights.png)\n",
        "\n",
        "We can rewrite the update formulas in matrices as following:\n",
        "\n",
        "![](https://hmkcode.github.io/images/ai/bp_update_all_weights_matrix.png)"
      ]
    },
    {
      "metadata": {
        "id": "rx_6URzeZwwG",
        "colab_type": "text"
      },
      "cell_type": "markdown",
      "source": [
        "## Backward Pass\n",
        "\n",
        "Using derived formulas we can find the new **weights**."
      ]
    },
    {
      "metadata": {
        "id": "u4xPFroxZ2rR",
        "colab_type": "text"
      },
      "cell_type": "markdown",
      "source": [
        "> **Learning rate:** is a hyperparameter which means that we need to manually guess its value."
      ]
    },
    {
      "metadata": {
        "id": "lQZhVXbDZ7F5",
        "colab_type": "text"
      },
      "cell_type": "markdown",
      "source": [
        "Delta = prediction - actual i.e. \n",
        "$\\Delta$ = 0.181 - 1 = -0.819\n",
        "\n",
        "Learning Rate (a) = 0.05\n",
        "\n",
        "---\n",
        "\n",
        "$\n",
        "\\begin{bmatrix}\n",
        "w5\\\\ w6\n",
        "\\end{bmatrix} = \n",
        "\\begin{bmatrix}\n",
        "0.12\\\\\n",
        "0.17\n",
        "\\end{bmatrix} - 0.05(-0.819)\n",
        "\\begin{bmatrix}\n",
        "0.83 \\\\\n",
        "0.48 \\\\\n",
        "\\end{bmatrix} = \\begin{bmatrix}\n",
        "0.12\\\\\n",
        "0.17\n",
        "\\end{bmatrix}-\\begin{bmatrix}\n",
        "-0.034\\\\\n",
        "-0.020\n",
        "\\end{bmatrix} = \\begin{bmatrix}\n",
        "0.15\\\\\n",
        "0.19\n",
        "\\end{bmatrix}\n",
        "$\n",
        "\n",
        "---\n",
        "\n",
        "$\n",
        "\\begin{bmatrix}\n",
        "w1 & w3\\\\ w2 & w4\\\\\n",
        "\\end{bmatrix} = \n",
        "\\begin{bmatrix}\n",
        "0.13 & 0.15\\\\ 0.19 & 0.06\\\\\n",
        "\\end{bmatrix} - 0.05(-0.819)\n",
        "\\begin{bmatrix}\n",
        "2 \\\\\n",
        "3 \\\\\n",
        "\\end{bmatrix}.\n",
        "\\begin{bmatrix}\n",
        "0.12 & 0.17\n",
        "\\end{bmatrix} = \\begin{bmatrix}\n",
        "0.14 & 0.16\\\\ 0.20 & 0.08\\\\\n",
        "\\end{bmatrix}\n",
        "$\n",
        "\n",
        "---\n",
        "\n",
        "Now, using the new **weights** we will repeat the forward pass.\n",
        "\n",
        "![](https://1.bp.blogspot.com/-ve5y4x5mfEE/XHvQkqfkFJI/AAAAAAAAYgo/UZ2EU4aCfdA-tycWCM4Z9zkYAJYYUlEdQCLcBGAs/s1600/bp_forward_2.png)"
      ]
    },
    {
      "metadata": {
        "id": "kKoLT5cdrV1K",
        "colab_type": "text"
      },
      "cell_type": "markdown",
      "source": [
        "$\n",
        "\\begin{bmatrix}\n",
        "2 & 3\n",
        "\\end{bmatrix}.\n",
        "\\begin{bmatrix}\n",
        "0.14 & 0.16 \\\\\n",
        "0.20 & 0.08 \\\\\n",
        "\\end{bmatrix} = \\begin{bmatrix}\n",
        "0.88 & 0.56\n",
        "\\end{bmatrix}.\\begin{bmatrix}\n",
        "0.15\\\\\n",
        "0.19\n",
        "\\end{bmatrix} = \\begin{bmatrix}\n",
        "0.24\n",
        "\\end{bmatrix}\n",
        "$"
      ]
    },
    {
      "metadata": {
        "id": "xBBkb_jqaPkp",
        "colab_type": "text"
      },
      "cell_type": "markdown",
      "source": [
        "We can notice that the **prediction** `0.24` is a little bit closer to **actual output** than the previously predicted one `0.181`. We can repeat the same process of backward and forward pass until **error** is close or equal to zero."
      ]
    },
    {
      "metadata": {
        "id": "Wc0QXdUTsJV4",
        "colab_type": "text"
      },
      "cell_type": "markdown",
      "source": [
        "#Assignment 2B"
      ]
    },
    {
      "metadata": {
        "id": "gi12rl_Sr6G3",
        "colab_type": "code",
        "colab": {}
      },
      "cell_type": "code",
      "source": [
        "import numpy as np\n",
        "\n",
        "#Input layer\n",
        "i1 = 2\n",
        "i2 = 3\n",
        "\n",
        "#Weights\n",
        "w1 = 0.13\n",
        "w2 = 0.19\n",
        "w3 = 0.15\n",
        "w4 = 0.06\n",
        "w5 = 0.12\n",
        "w6 = 0.17\n",
        "\n",
        "#Actual Output\n",
        "actual = 1"
      ],
      "execution_count": 0,
      "outputs": []
    },
    {
      "metadata": {
        "id": "FKnk5nAVsUHa",
        "colab_type": "code",
        "colab": {
          "base_uri": "https://localhost:8080/",
          "height": 35
        },
        "outputId": "a7b72fca-524d-4b0f-ae66-2c36dc5ab492"
      },
      "cell_type": "code",
      "source": [
        "#Input Matrix\n",
        "mat_inp = np.array([i1, i2])\n",
        "print(mat_inp)"
      ],
      "execution_count": 2,
      "outputs": [
        {
          "output_type": "stream",
          "text": [
            "[2 3]\n"
          ],
          "name": "stdout"
        }
      ]
    },
    {
      "metadata": {
        "id": "xfbrso54sYls",
        "colab_type": "code",
        "colab": {
          "base_uri": "https://localhost:8080/",
          "height": 54
        },
        "outputId": "dda997f7-f459-4f67-e97b-980fde7588d8"
      },
      "cell_type": "code",
      "source": [
        "#Weight Matrix b/w input and hidden layer\n",
        "mat_i2h = np.array([[w1, w3], [w2, w4]])\n",
        "print(mat_i2h)"
      ],
      "execution_count": 3,
      "outputs": [
        {
          "output_type": "stream",
          "text": [
            "[[0.13 0.15]\n",
            " [0.19 0.06]]\n"
          ],
          "name": "stdout"
        }
      ]
    },
    {
      "metadata": {
        "id": "2SxgvcH4sbUH",
        "colab_type": "code",
        "colab": {
          "base_uri": "https://localhost:8080/",
          "height": 54
        },
        "outputId": "71a2071b-3621-4d8a-cea4-785a0c528f0e"
      },
      "cell_type": "code",
      "source": [
        "#Calculating hidden layer\n",
        "mat_hid = mat_inp.dot(mat_i2h)\n",
        "h1 = mat_hid[0]\n",
        "h2 = mat_hid[1]\n",
        "print(mat_hid)\n",
        "print(h1, h2)"
      ],
      "execution_count": 4,
      "outputs": [
        {
          "output_type": "stream",
          "text": [
            "[0.83 0.48]\n",
            "0.8300000000000001 0.48\n"
          ],
          "name": "stdout"
        }
      ]
    },
    {
      "metadata": {
        "id": "MZ3-5SShsekg",
        "colab_type": "code",
        "colab": {
          "base_uri": "https://localhost:8080/",
          "height": 54
        },
        "outputId": "7c74533e-196b-417d-f9eb-4708ba703223"
      },
      "cell_type": "code",
      "source": [
        "#Weight Matrix b/w hidden and output layer\n",
        "mat_h2o = np.array([[w5],[w6]])\n",
        "print(mat_h2o)"
      ],
      "execution_count": 5,
      "outputs": [
        {
          "output_type": "stream",
          "text": [
            "[[0.12]\n",
            " [0.17]]\n"
          ],
          "name": "stdout"
        }
      ]
    },
    {
      "metadata": {
        "id": "R0RsUUE-shIj",
        "colab_type": "code",
        "colab": {
          "base_uri": "https://localhost:8080/",
          "height": 35
        },
        "outputId": "cb798d00-b712-462b-e765-74adf89ebe5c"
      },
      "cell_type": "code",
      "source": [
        "#Calculating Output\n",
        "mat_out = mat_hid.dot(mat_h2o)\n",
        "print(mat_out)"
      ],
      "execution_count": 6,
      "outputs": [
        {
          "output_type": "stream",
          "text": [
            "[0.1812]\n"
          ],
          "name": "stdout"
        }
      ]
    },
    {
      "metadata": {
        "id": "lx4gB7YnsjXM",
        "colab_type": "code",
        "colab": {
          "base_uri": "https://localhost:8080/",
          "height": 35
        },
        "outputId": "2a80e1a9-5050-476e-feeb-39d1f5be2c0f"
      },
      "cell_type": "code",
      "source": [
        "#Let's say \"prediction\" is our calculated OUTPUT\n",
        "prediction = mat_out[0]\n",
        "print(prediction)"
      ],
      "execution_count": 7,
      "outputs": [
        {
          "output_type": "stream",
          "text": [
            "0.18120000000000003\n"
          ],
          "name": "stdout"
        }
      ]
    },
    {
      "metadata": {
        "id": "B_5-uY-qslqn",
        "colab_type": "code",
        "colab": {
          "base_uri": "https://localhost:8080/",
          "height": 35
        },
        "outputId": "637929ff-e57c-480c-8708-9a2a92c1ab62"
      },
      "cell_type": "code",
      "source": [
        "#Calculating error (Not used anywhere)\n",
        "error = ((prediction - actual)**2)/2\n",
        "print(error)"
      ],
      "execution_count": 8,
      "outputs": [
        {
          "output_type": "stream",
          "text": [
            "0.33521671999999997\n"
          ],
          "name": "stdout"
        }
      ]
    },
    {
      "metadata": {
        "id": "CBEfDXzTsolA",
        "colab_type": "code",
        "colab": {}
      },
      "cell_type": "code",
      "source": [
        "#Setting learning rate and epoch\n",
        "learning_rate = 0.05\n",
        "epoch = 100"
      ],
      "execution_count": 0,
      "outputs": []
    },
    {
      "metadata": {
        "id": "z9zF4zXIsv85",
        "colab_type": "code",
        "colab": {
          "base_uri": "https://localhost:8080/",
          "height": 641
        },
        "outputId": "1f744c20-4926-4c99-9239-bb769ebd5e91"
      },
      "cell_type": "code",
      "source": [
        "#Backpropagation and Forward Pass\n",
        "for i in range(epoch):\n",
        "  #Let \"delta\" be the difference between actual and predicted output\n",
        "  delta = prediction-actual\n",
        "  \n",
        "  #Using Backpropagation we got the following formulas for updating weight\n",
        "  w6_prev = w6\n",
        "  w5_prev = w5\n",
        "  w6 = w6 - learning_rate * (h2 * delta)\n",
        "  w5 = w5 - learning_rate * (h1 * delta)\n",
        "  w4 = w4 - learning_rate * (i2 * (delta * w6_prev))\n",
        "  w3 = w3 - learning_rate * (i1 * (delta * w6_prev))\n",
        "  w2 = w2 - learning_rate * (i2 * (delta * w5_prev))\n",
        "  w1 = w1 - learning_rate * (i1 * (delta * w5_prev))\n",
        "  \n",
        "  prev_prediction = prediction\n",
        "  \n",
        "  #prediction calculation simplified\n",
        "  prediction = (((i1*w1) + (i2*w2)) * w5) + (((i1*w3) + (i2*w4)) * w6)\n",
        "  print(round(prediction, 3))\n",
        "  \n",
        "  if(prev_prediction == prediction or round(prediction, 3) == actual):\n",
        "    break  \n",
        "    \n",
        "print(\"--------------\\n Final Predicted Output = \" + str(round(prediction, 3)))"
      ],
      "execution_count": 10,
      "outputs": [
        {
          "output_type": "stream",
          "text": [
            "0.246\n",
            "0.317\n",
            "0.394\n",
            "0.473\n",
            "0.55\n",
            "0.623\n",
            "0.69\n",
            "0.749\n",
            "0.8\n",
            "0.842\n",
            "0.876\n",
            "0.904\n",
            "0.926\n",
            "0.943\n",
            "0.956\n",
            "0.967\n",
            "0.975\n",
            "0.981\n",
            "0.985\n",
            "0.989\n",
            "0.992\n",
            "0.994\n",
            "0.995\n",
            "0.996\n",
            "0.997\n",
            "0.998\n",
            "0.998\n",
            "0.999\n",
            "0.999\n",
            "0.999\n",
            "0.999\n",
            "1.0\n",
            "--------------\n",
            " Final Predicted Output = 1.0\n"
          ],
          "name": "stdout"
        }
      ]
    }
  ]
}