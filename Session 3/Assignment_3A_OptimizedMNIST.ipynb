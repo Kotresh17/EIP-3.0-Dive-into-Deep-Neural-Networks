{
  "nbformat": 4,
  "nbformat_minor": 0,
  "metadata": {
    "colab": {
      "name": "Assignment_3A_OptimizedMNIST.ipynb",
      "version": "0.3.2",
      "provenance": [],
      "collapsed_sections": [],
      "include_colab_link": true
    },
    "kernelspec": {
      "name": "python3",
      "display_name": "Python 3"
    },
    "accelerator": "GPU"
  },
  "cells": [
    {
      "cell_type": "markdown",
      "metadata": {
        "id": "view-in-github",
        "colab_type": "text"
      },
      "source": [
        "<a href=\"https://colab.research.google.com/github/sin2akshay/External-Internship-Program-2.0-Machine-Learning-for-Deep-Neural-Networks/blob/master/Session%203/Assignment_3A_OptimizedMNIST.ipynb\" target=\"_parent\"><img src=\"https://colab.research.google.com/assets/colab-badge.svg\" alt=\"Open In Colab\"/></a>"
      ]
    },
    {
      "metadata": {
        "id": "aNyZv-Ec52ot",
        "colab_type": "text"
      },
      "cell_type": "markdown",
      "source": [
        "# **Import Libraries and modules**"
      ]
    },
    {
      "metadata": {
        "id": "3m3w1Cw49Zkt",
        "colab_type": "code",
        "colab": {}
      },
      "cell_type": "code",
      "source": [
        "# https://keras.io/\n",
        "!pip install -q keras\n",
        "import keras"
      ],
      "execution_count": 0,
      "outputs": []
    },
    {
      "metadata": {
        "id": "Eso6UHE080D4",
        "colab_type": "code",
        "colab": {}
      },
      "cell_type": "code",
      "source": [
        "import numpy as np\n",
        "import pandas as pd\n",
        "import matplotlib.pyplot as plt\n",
        "%matplotlib inline\n",
        "\n",
        "from keras.models import Sequential\n",
        "from keras.layers import Dense, Dropout, Activation, Flatten, Add\n",
        "from keras.layers import Convolution2D, MaxPooling2D, SeparableConv2D\n",
        "from keras.utils import np_utils\n",
        "\n",
        "from keras.datasets import mnist\n",
        "\n",
        "from keras.optimizers import Adam\n",
        "from keras.layers.normalization import BatchNormalization\n",
        "from keras.layers import Conv2D, ZeroPadding2D, GlobalAveragePooling2D\n",
        "from keras.layers.advanced_activations import LeakyReLU \n",
        "from keras.preprocessing.image import ImageDataGenerator"
      ],
      "execution_count": 0,
      "outputs": []
    },
    {
      "metadata": {
        "id": "LkXXi5yBJKYl",
        "colab_type": "text"
      },
      "cell_type": "markdown",
      "source": [
        "#### As is good practice, we next initialize the random number seed with a constant to ensure the results are reproducible."
      ]
    },
    {
      "metadata": {
        "id": "HcSc_jdQJMHc",
        "colab_type": "code",
        "colab": {}
      },
      "cell_type": "code",
      "source": [
        "# fix random seed for reproducibility\n",
        "seed = 7\n",
        "np.random.seed(seed)"
      ],
      "execution_count": 0,
      "outputs": []
    },
    {
      "metadata": {
        "id": "zByEi95J86RD",
        "colab_type": "text"
      },
      "cell_type": "markdown",
      "source": [
        "### Load pre-shuffled MNIST data into train and test sets"
      ]
    },
    {
      "metadata": {
        "id": "7eRM0QWN83PV",
        "colab_type": "code",
        "outputId": "2d4574bc-17fe-44a0-972b-c3a5e7a5cf90",
        "colab": {
          "base_uri": "https://localhost:8080/",
          "height": 54
        }
      },
      "cell_type": "code",
      "source": [
        "(X_train, y_train), (X_test, y_test) = mnist.load_data()"
      ],
      "execution_count": 0,
      "outputs": [
        {
          "output_type": "stream",
          "text": [
            "Downloading data from https://s3.amazonaws.com/img-datasets/mnist.npz\n",
            "11493376/11490434 [==============================] - 1s 0us/step\n"
          ],
          "name": "stdout"
        }
      ]
    },
    {
      "metadata": {
        "id": "yuASkFaXCXBi",
        "colab_type": "code",
        "outputId": "d4f0633a-c3d1-489e-aa5f-d38f00808455",
        "colab": {
          "base_uri": "https://localhost:8080/",
          "height": 90
        }
      },
      "cell_type": "code",
      "source": [
        "print(\"X_train original shape: \", X_train.shape)\n",
        "print(\"y_train original shape: \", y_train.shape)\n",
        "print(\"X_test original shape: \", X_test.shape)\n",
        "print(\"y_test original shape: \", y_test.shape)"
      ],
      "execution_count": 0,
      "outputs": [
        {
          "output_type": "stream",
          "text": [
            "X_train original shape:  (60000, 28, 28)\n",
            "y_train original shape:  (60000,)\n",
            "X_test original shape:  (10000, 28, 28)\n",
            "y_test original shape:  (10000,)\n"
          ],
          "name": "stdout"
        }
      ]
    },
    {
      "metadata": {
        "id": "FZ7lag-N1UbM",
        "colab_type": "text"
      },
      "cell_type": "markdown",
      "source": [
        "#### Inspecting the data"
      ]
    },
    {
      "metadata": {
        "id": "xH5Qef400w3C",
        "colab_type": "code",
        "outputId": "9ba22560-7425-41b4-d219-2b92ee3c3556",
        "colab": {
          "base_uri": "https://localhost:8080/",
          "height": 280
        }
      },
      "cell_type": "code",
      "source": [
        "for i in range(9):\n",
        "  plt.subplot(3,3,i+1)\n",
        "  plt.tight_layout()\n",
        "  plt.imshow(X_train[i], cmap='gray', interpolation='none')\n",
        "  plt.title(\"Digit: {}\".format(y_train[i]))\n",
        "  plt.xticks([])\n",
        "  plt.yticks([])"
      ],
      "execution_count": 0,
      "outputs": [
        {
          "output_type": "display_data",
          "data": {
            "image/png": "[encoded data removed]",
            "text/plain": [
              "<Figure size 432x288 with 9 Axes>"
            ]
          },
          "metadata": {
            "tags": []
          }
        }
      ]
    },
    {
      "metadata": {
        "id": "hic1ELcUU2cY",
        "colab_type": "code",
        "outputId": "43db2575-858c-4e4c-9457-7991ab0648d3",
        "colab": {
          "base_uri": "https://localhost:8080/",
          "height": 127
        }
      },
      "cell_type": "code",
      "source": [
        "print(\"Number of training examples = %i\" % X_train.shape[0])\n",
        "print(\"Number of classes = %i\" % len(np.unique(y_train)))\n",
        "print(\"Dimension of images = {:d} x {:d}  \".format(X_train[1].shape[0],X_train[1].shape[1])  )\n",
        "\n",
        "#This line will allow us to know the number of occurrences of each specific class in the data\n",
        "unique, count= np.unique(y_train, return_counts=True)\n",
        "print(\"The number of occurance of each class in the dataset = \\n%s \" % dict (zip(unique, count) ), \"\\n\" )"
      ],
      "execution_count": 0,
      "outputs": [
        {
          "output_type": "stream",
          "text": [
            "Number of training examples = 60000\n",
            "Number of classes = 10\n",
            "Dimension of images = 28 x 28  \n",
            "The number of occurance of each class in the dataset = \n",
            "{0: 5923, 1: 6742, 2: 5958, 3: 6131, 4: 5842, 5: 5421, 6: 5918, 7: 6265, 8: 5851, 9: 5949}  \n",
            "\n"
          ],
          "name": "stdout"
        }
      ]
    },
    {
      "metadata": {
        "id": "s9Ky4HaF-unb",
        "colab_type": "text"
      },
      "cell_type": "markdown",
      "source": [
        "The input shape that a CNN accepts should be in a specific format. For using Tensorflow, the format should be (batch, height, width, channels). In order to train our neural network to classify images we first have to unroll the height width pixel format into one big vector - the input vector. So its length must be ."
      ]
    },
    {
      "metadata": {
        "id": "dkmprriw9AnZ",
        "colab_type": "code",
        "colab": {}
      },
      "cell_type": "code",
      "source": [
        "X_train = X_train.reshape(X_train.shape[0], 28, 28,1)\n",
        "X_test = X_test.reshape(X_test.shape[0], 28, 28,1)"
      ],
      "execution_count": 0,
      "outputs": []
    },
    {
      "metadata": {
        "id": "Jorrnk22_EfM",
        "colab_type": "text"
      },
      "cell_type": "markdown",
      "source": [
        "Now the shape of X_train is (60000, 28, 28, 1). As all the images are in grayscale, the number of channels is 1. If it was a color image, then the number of channels would be 3 (R, G, B)."
      ]
    },
    {
      "metadata": {
        "id": "ixaDqsdkNTA7",
        "colab_type": "code",
        "outputId": "0457ec51-e877-41ce-8c8e-763e17111eb3",
        "colab": {
          "base_uri": "https://localhost:8080/",
          "height": 35
        }
      },
      "cell_type": "code",
      "source": [
        "X_train.shape"
      ],
      "execution_count": 0,
      "outputs": [
        {
          "output_type": "execute_result",
          "data": {
            "text/plain": [
              "(60000, 28, 28, 1)"
            ]
          },
          "metadata": {
            "tags": []
          },
          "execution_count": 18
        }
      ]
    },
    {
      "metadata": {
        "id": "X2m4YS4E9CRh",
        "colab_type": "code",
        "colab": {}
      },
      "cell_type": "code",
      "source": [
        "#Normalizing data to help with training\n",
        "X_train = X_train.astype('float32')\n",
        "X_test = X_test.astype('float32')\n",
        "\n",
        "X_train /= 255\n",
        "X_test /= 255"
      ],
      "execution_count": 0,
      "outputs": []
    },
    {
      "metadata": {
        "id": "3ONzcLoZUt-M",
        "colab_type": "text"
      },
      "cell_type": "markdown",
      "source": [
        "Normalization is an important step which ensures that each input parameter (pixel, in this case) has a similar data distribution. This makes convergence faster while training the network. Also, it reduces the chance of getting stuck in local optima, since we're using stochastic gradient descent to find the optimal weights for the network."
      ]
    },
    {
      "metadata": {
        "id": "0Mn0vAYD9DvB",
        "colab_type": "code",
        "outputId": "b513be8b-8b2d-495d-c764-348ad5b2df5f",
        "colab": {
          "base_uri": "https://localhost:8080/",
          "height": 35
        }
      },
      "cell_type": "code",
      "source": [
        "y_train[:10]"
      ],
      "execution_count": 0,
      "outputs": [
        {
          "output_type": "execute_result",
          "data": {
            "text/plain": [
              "array([5, 0, 4, 1, 9, 2, 1, 3, 1, 4], dtype=uint8)"
            ]
          },
          "metadata": {
            "tags": []
          },
          "execution_count": 20
        }
      ]
    },
    {
      "metadata": {
        "id": "ahHkKy3g_TQp",
        "colab_type": "text"
      },
      "cell_type": "markdown",
      "source": [
        "Now, we need to [one-hot encode](https://hackernoon.com/what-is-one-hot-encoding-why-and-when-do-you-have-to-use-it-e3c6186d008f) the labels i.e. Y_train and Y_test. In one-hot encoding an integer is converted to an array which contains only one ‘1’ and the rest elements are ‘0’. Thus a '5' will be represented by [0,0,0,0,1,0,0,0,0]."
      ]
    },
    {
      "metadata": {
        "id": "ZG8JiXR39FHC",
        "colab_type": "code",
        "colab": {}
      },
      "cell_type": "code",
      "source": [
        "# Convert 1-dimensional class arrays to 10-dimensional class matrices\n",
        "Y_train = np_utils.to_categorical(y_train, 10)\n",
        "Y_test = np_utils.to_categorical(y_test, 10)"
      ],
      "execution_count": 0,
      "outputs": []
    },
    {
      "metadata": {
        "id": "fYlFRvKS9HMB",
        "colab_type": "code",
        "outputId": "9b3b3768-e113-4240-f5e4-3345ea46f341",
        "colab": {
          "base_uri": "https://localhost:8080/",
          "height": 201
        }
      },
      "cell_type": "code",
      "source": [
        "Y_train[:10]"
      ],
      "execution_count": 0,
      "outputs": [
        {
          "output_type": "execute_result",
          "data": {
            "text/plain": [
              "array([[0., 0., 0., 0., 0., 1., 0., 0., 0., 0.],\n",
              "       [1., 0., 0., 0., 0., 0., 0., 0., 0., 0.],\n",
              "       [0., 0., 0., 0., 1., 0., 0., 0., 0., 0.],\n",
              "       [0., 1., 0., 0., 0., 0., 0., 0., 0., 0.],\n",
              "       [0., 0., 0., 0., 0., 0., 0., 0., 0., 1.],\n",
              "       [0., 0., 1., 0., 0., 0., 0., 0., 0., 0.],\n",
              "       [0., 1., 0., 0., 0., 0., 0., 0., 0., 0.],\n",
              "       [0., 0., 0., 1., 0., 0., 0., 0., 0., 0.],\n",
              "       [0., 1., 0., 0., 0., 0., 0., 0., 0., 0.],\n",
              "       [0., 0., 0., 0., 1., 0., 0., 0., 0., 0.]], dtype=float32)"
            ]
          },
          "metadata": {
            "tags": []
          },
          "execution_count": 22
        }
      ]
    },
    {
      "metadata": {
        "id": "Iyy_MUsrJRcZ",
        "colab_type": "text"
      },
      "cell_type": "markdown",
      "source": [
        "#### Function to help plot image augmentation images later, you can ignore it"
      ]
    },
    {
      "metadata": {
        "id": "MXKdKhEbJQVj",
        "colab_type": "code",
        "colab": {}
      },
      "cell_type": "code",
      "source": [
        "def plot_images(imgs, labels=None, rows=1, figsize=(20,8), fontsize=14):\n",
        "    figure = plt.figure(figsize=figsize)\n",
        "    cols = max(1,len(imgs) // rows-1)\n",
        "    labels_present = False\n",
        "    # checking if labels is a numpy array\n",
        "    if type(labels).__module__ == np.__name__:\n",
        "        labels_present=labels.any()\n",
        "    elif labels:\n",
        "        labels_present=True\n",
        "    for i in range(len(imgs)):\n",
        "        subplot = figure.add_subplot(rows, cols+1, i+1)\n",
        "        # axis off, but leave a bounding box\n",
        "        plt.tick_params(\n",
        "            axis='both',\n",
        "            which='both',\n",
        "            bottom='off',\n",
        "            top='off',\n",
        "            left='off',\n",
        "            right='off',\n",
        "            labelbottom='off',\n",
        "            labelleft='off')\n",
        "        # plot labels if present\n",
        "        if labels_present:\n",
        "            subplot.set_title(labels[i], fontsize=fontsize)\n",
        "        plt.imshow(imgs[i][:,:,0], cmap='gray')\n",
        "        plt.xticks([])\n",
        "        plt.yticks([])\n",
        "    plt.show()"
      ],
      "execution_count": 0,
      "outputs": []
    },
    {
      "metadata": {
        "id": "-lOfyxDG_uLm",
        "colab_type": "text"
      },
      "cell_type": "markdown",
      "source": [
        "### Creating our Model"
      ]
    },
    {
      "metadata": {
        "id": "osKqT73Q9JJB",
        "colab_type": "code",
        "colab": {}
      },
      "cell_type": "code",
      "source": [
        "from keras.layers import Activation\n",
        "model = Sequential()\n",
        "\n",
        "model.add(Conv2D(16, (3, 3), activation='relu', input_shape=(28,28,1)))\n",
        "model.add(BatchNormalization(axis=-1))\n",
        "model.add(Conv2D(16, (1, 1), activation='relu'))\n",
        "model.add(MaxPooling2D(pool_size=(2, 2), strides=None, padding='valid', data_format=None))\n",
        "model.add(BatchNormalization(axis=-1)) #Axis -1 is always the features axis\n",
        "\n",
        "model.add(Conv2D(32, (3, 3), activation='relu'))\n",
        "model.add(SeparableConv2D(32, (2, 2), activation='relu'))\n",
        "#BatchNormalization(axis=-1)\n",
        "#model.add(Conv2D(64, (3, 3), activation='relu'))\n",
        "#model.add(MaxPooling2D(pool_size=(2, 2), strides=None, padding='valid', data_format=None))\n",
        "model.add(BatchNormalization(axis=-1))\n",
        "\n",
        "model.add(Conv2D(10, (1, 1), activation='relu'))\n",
        "model.add(Conv2D(10, (10,10)))\n",
        "model.add(Flatten())\n",
        "model.add(Activation('softmax'))"
      ],
      "execution_count": 0,
      "outputs": []
    },
    {
      "metadata": {
        "id": "5CRRmZFbAY9M",
        "colab_type": "text"
      },
      "cell_type": "markdown",
      "source": [
        "We have used ReLU (rectified linear unit) as our activation function. ReLU function is f(x) = max(0, x), where x is the input. It sets all negative values in the matrix ‘x’ to 0 and keeps all the other values constant. It is the most used activation function since it reduces training time and prevents the problem of vanishing gradients.\n",
        "\n",
        "---\n",
        "MaxPooling layer is used to down-sample the input to enable the model to make assumptions about the features so as to reduce over-fitting. It also reduces the number of parameters to learn, reducing the training time.\n",
        "\n",
        "---\n",
        "It’s a best practice to always do BatchNormalization. It normalizes the matrix after it is been through a convolution layer so that the scale of each dimension remains the same. It reduces the training time significantly."
      ]
    },
    {
      "metadata": {
        "id": "TzdAYg1k9K7Z",
        "colab_type": "code",
        "outputId": "f957d2f7-3ab4-4ad1-a5f5-9d0b36ce118f",
        "colab": {
          "base_uri": "https://localhost:8080/",
          "height": 586
        }
      },
      "cell_type": "code",
      "source": [
        "model.summary()"
      ],
      "execution_count": 0,
      "outputs": [
        {
          "output_type": "stream",
          "text": [
            "_________________________________________________________________\n",
            "Layer (type)                 Output Shape              Param #   \n",
            "=================================================================\n",
            "conv2d_40 (Conv2D)           (None, 26, 26, 16)        160       \n",
            "_________________________________________________________________\n",
            "batch_normalization_27 (Batc (None, 26, 26, 16)        64        \n",
            "_________________________________________________________________\n",
            "conv2d_41 (Conv2D)           (None, 26, 26, 16)        272       \n",
            "_________________________________________________________________\n",
            "max_pooling2d_10 (MaxPooling (None, 13, 13, 16)        0         \n",
            "_________________________________________________________________\n",
            "batch_normalization_28 (Batc (None, 13, 13, 16)        64        \n",
            "_________________________________________________________________\n",
            "conv2d_42 (Conv2D)           (None, 11, 11, 32)        4640      \n",
            "_________________________________________________________________\n",
            "separable_conv2d_8 (Separabl (None, 10, 10, 32)        1184      \n",
            "_________________________________________________________________\n",
            "batch_normalization_29 (Batc (None, 10, 10, 32)        128       \n",
            "_________________________________________________________________\n",
            "conv2d_43 (Conv2D)           (None, 10, 10, 10)        330       \n",
            "_________________________________________________________________\n",
            "conv2d_44 (Conv2D)           (None, 1, 1, 10)          10010     \n",
            "_________________________________________________________________\n",
            "flatten_7 (Flatten)          (None, 10)                0         \n",
            "_________________________________________________________________\n",
            "activation_7 (Activation)    (None, 10)                0         \n",
            "=================================================================\n",
            "Total params: 16,852\n",
            "Trainable params: 16,724\n",
            "Non-trainable params: 128\n",
            "_________________________________________________________________\n"
          ],
          "name": "stdout"
        }
      ]
    },
    {
      "metadata": {
        "id": "Zp6SuGrL9M3h",
        "colab_type": "code",
        "colab": {}
      },
      "cell_type": "code",
      "source": [
        "model.compile(loss='categorical_crossentropy',\n",
        "             optimizer='adam',\n",
        "             metrics=['accuracy'])"
      ],
      "execution_count": 0,
      "outputs": []
    },
    {
      "metadata": {
        "id": "JNb9i4SrA1Y0",
        "colab_type": "text"
      },
      "cell_type": "markdown",
      "source": [
        "The cross-entropy loss calculates the error rate between the predicted value and the original value. The formula for calculating cross-entropy loss is given [here](https://en.wikipedia.org/wiki/Cross_entropy). Categorical is used because there are 10 classes to predict from. If there were 2 classes, we would have used binary_crossentropy.\n",
        "\n",
        "---\n",
        "\n",
        "The Adam optimizer is an improvement over SGD(Stochastic Gradient Descent). The optimizer is responsible for updating the weights of the neurons via backpropagation. It calculates the derivative of the loss function with respect to each weight and subtracts it from the weight. **This is how a neural network learns.**\n",
        "\n",
        "---\n"
      ]
    },
    {
      "metadata": {
        "id": "9IteMP2DHU4y",
        "colab_type": "text"
      },
      "cell_type": "markdown",
      "source": [
        "### Applying Image Augmentation and visualizing it"
      ]
    },
    {
      "metadata": {
        "id": "dCsosK3ABWbk",
        "colab_type": "code",
        "colab": {}
      },
      "cell_type": "code",
      "source": [
        "datagen = ImageDataGenerator(\n",
        "        rotation_range=8, \n",
        "        width_shift_range=0.08, \n",
        "        shear_range=0.3, \n",
        "        height_shift_range=0.08, \n",
        "        zoom_range=0.08,\n",
        "        )\n",
        "\n",
        "test_gen = ImageDataGenerator()"
      ],
      "execution_count": 0,
      "outputs": []
    },
    {
      "metadata": {
        "id": "YTCDJ9kXb9Mt",
        "colab_type": "code",
        "outputId": "891004d7-8ab0-4cab-d0e6-7a26177788ee",
        "colab": {
          "base_uri": "https://localhost:8080/",
          "height": 299
        }
      },
      "cell_type": "code",
      "source": [
        "# Visualizing augmented images for a sinle input\n",
        "img = X_train[5]\n",
        "\n",
        "batches = 0\n",
        "max_batches = 20\n",
        "img_gen = []\n",
        "for x_batch in datagen.flow(img.reshape((1,) + img.shape), batch_size=max_batches):\n",
        "    img_gen.append(x_batch[0])\n",
        "    batches += 1\n",
        "    if batches >= max_batches:\n",
        "        # generator loops indefinetly\n",
        "        break\n",
        "        \n",
        "plot_images(img_gen, rows=2, figsize=(20,4))"
      ],
      "execution_count": 0,
      "outputs": [
        {
          "output_type": "stream",
          "text": [
            "/usr/local/lib/python3.6/dist-packages/matplotlib/cbook/__init__.py:424: MatplotlibDeprecationWarning: \n",
            "Passing one of 'on', 'true', 'off', 'false' as a boolean is deprecated; use an actual boolean (True/False) instead.\n",
            "  warn_deprecated(\"2.2\", \"Passing one of 'on', 'true', 'off', 'false' as a \"\n"
          ],
          "name": "stderr"
        },
        {
          "output_type": "display_data",
          "data": {
            "image/png": "[encoded data removed]",
            "text/plain": [
              "<Figure size 1440x288 with 20 Axes>"
            ]
          },
          "metadata": {
            "tags": []
          }
        }
      ]
    },
    {
      "metadata": {
        "id": "6nyp2b7GBaqO",
        "colab_type": "text"
      },
      "cell_type": "markdown",
      "source": [
        "This is how we can do Data Augmentation in Keras. You can play with the values and check if it improves the accuracy of the model.\n",
        "\n",
        "---\n",
        "\n",
        "We have to create batches, so that we use less memory. Moreover, we can also train our model faster by creating batches. If we are using batch of 64, so the model will take 64 images at a time and train on them."
      ]
    },
    {
      "metadata": {
        "id": "V0Cu-DUcBcdr",
        "colab_type": "code",
        "colab": {}
      },
      "cell_type": "code",
      "source": [
        "batch_size = 128\n",
        "train_generator = datagen.flow(X_train, Y_train, batch_size=128)\n",
        "test_generator = test_gen.flow(X_test, Y_test, batch_size=128)"
      ],
      "execution_count": 0,
      "outputs": []
    },
    {
      "metadata": {
        "id": "9cfPo1ORBgqM",
        "colab_type": "text"
      },
      "cell_type": "markdown",
      "source": [
        "Training Time!!"
      ]
    },
    {
      "metadata": {
        "id": "164SR-9qBqUz",
        "colab_type": "code",
        "outputId": "3d9db5e3-1915-49c2-f0e8-1aba8ef88585",
        "colab": {
          "base_uri": "https://localhost:8080/",
          "height": 1854
        }
      },
      "cell_type": "code",
      "source": [
        "history = model.fit_generator(train_generator, steps_per_epoch=60000//batch_size, epochs = 50, \n",
        "                    validation_data=test_generator, validation_steps=10000//batch_size)"
      ],
      "execution_count": 0,
      "outputs": [
        {
          "output_type": "stream",
          "text": [
            "Epoch 1/50\n",
            "468/468 [==============================] - 22s 48ms/step - loss: 0.0292 - acc: 0.9909 - val_loss: 0.0376 - val_acc: 0.9901\n",
            "Epoch 2/50\n",
            "468/468 [==============================] - 23s 48ms/step - loss: 0.0281 - acc: 0.9913 - val_loss: 0.0265 - val_acc: 0.9918\n",
            "Epoch 3/50\n",
            "468/468 [==============================] - 23s 48ms/step - loss: 0.0274 - acc: 0.9910 - val_loss: 0.0300 - val_acc: 0.9909\n",
            "Epoch 4/50\n",
            "468/468 [==============================] - 23s 49ms/step - loss: 0.0272 - acc: 0.9915 - val_loss: 0.0555 - val_acc: 0.9829\n",
            "Epoch 5/50\n",
            "468/468 [==============================] - 23s 49ms/step - loss: 0.0271 - acc: 0.9914 - val_loss: 0.0230 - val_acc: 0.9926\n",
            "Epoch 6/50\n",
            "468/468 [==============================] - 22s 48ms/step - loss: 0.0252 - acc: 0.9922 - val_loss: 0.0193 - val_acc: 0.9942\n",
            "Epoch 7/50\n",
            "468/468 [==============================] - 23s 48ms/step - loss: 0.0253 - acc: 0.9919 - val_loss: 0.0330 - val_acc: 0.9905\n",
            "Epoch 8/50\n",
            "468/468 [==============================] - 23s 49ms/step - loss: 0.0268 - acc: 0.9913 - val_loss: 0.0311 - val_acc: 0.9902\n",
            "Epoch 9/50\n",
            "468/468 [==============================] - 23s 48ms/step - loss: 0.0241 - acc: 0.9926 - val_loss: 0.0227 - val_acc: 0.9935\n",
            "Epoch 10/50\n",
            "468/468 [==============================] - 23s 49ms/step - loss: 0.0246 - acc: 0.9922 - val_loss: 0.0284 - val_acc: 0.9910\n",
            "Epoch 11/50\n",
            "468/468 [==============================] - 23s 49ms/step - loss: 0.0262 - acc: 0.9918 - val_loss: 0.0292 - val_acc: 0.9914\n",
            "Epoch 12/50\n",
            "468/468 [==============================] - 23s 49ms/step - loss: 0.0250 - acc: 0.9919 - val_loss: 0.0198 - val_acc: 0.9938\n",
            "Epoch 13/50\n",
            "468/468 [==============================] - 23s 49ms/step - loss: 0.0238 - acc: 0.9927 - val_loss: 0.0256 - val_acc: 0.9926\n",
            "Epoch 14/50\n",
            "468/468 [==============================] - 23s 48ms/step - loss: 0.0241 - acc: 0.9924 - val_loss: 0.0280 - val_acc: 0.9919\n",
            "Epoch 15/50\n",
            "468/468 [==============================] - 23s 49ms/step - loss: 0.0225 - acc: 0.9929 - val_loss: 0.0278 - val_acc: 0.9917\n",
            "Epoch 16/50\n",
            "468/468 [==============================] - 23s 48ms/step - loss: 0.0231 - acc: 0.9929 - val_loss: 0.0335 - val_acc: 0.9915\n",
            "Epoch 17/50\n",
            "468/468 [==============================] - 23s 49ms/step - loss: 0.0245 - acc: 0.9922 - val_loss: 0.0227 - val_acc: 0.9929\n",
            "Epoch 18/50\n",
            "468/468 [==============================] - 23s 49ms/step - loss: 0.0220 - acc: 0.9929 - val_loss: 0.0260 - val_acc: 0.9916\n",
            "Epoch 19/50\n",
            "468/468 [==============================] - 23s 49ms/step - loss: 0.0244 - acc: 0.9924 - val_loss: 0.0241 - val_acc: 0.9933\n",
            "Epoch 20/50\n",
            "468/468 [==============================] - 23s 49ms/step - loss: 0.0208 - acc: 0.9931 - val_loss: 0.0262 - val_acc: 0.9923\n",
            "Epoch 21/50\n",
            "468/468 [==============================] - 23s 49ms/step - loss: 0.0221 - acc: 0.9930 - val_loss: 0.0282 - val_acc: 0.9910\n",
            "Epoch 22/50\n",
            "468/468 [==============================] - 23s 48ms/step - loss: 0.0215 - acc: 0.9931 - val_loss: 0.0232 - val_acc: 0.9934\n",
            "Epoch 23/50\n",
            "468/468 [==============================] - 23s 49ms/step - loss: 0.0231 - acc: 0.9925 - val_loss: 0.0279 - val_acc: 0.9919\n",
            "Epoch 24/50\n",
            "468/468 [==============================] - 23s 49ms/step - loss: 0.0218 - acc: 0.9930 - val_loss: 0.0277 - val_acc: 0.9928\n",
            "Epoch 25/50\n",
            "468/468 [==============================] - 23s 48ms/step - loss: 0.0214 - acc: 0.9931 - val_loss: 0.0224 - val_acc: 0.9935\n",
            "Epoch 26/50\n",
            "468/468 [==============================] - 23s 49ms/step - loss: 0.0224 - acc: 0.9929 - val_loss: 0.0267 - val_acc: 0.9919\n",
            "Epoch 27/50\n",
            "468/468 [==============================] - 23s 49ms/step - loss: 0.0214 - acc: 0.9929 - val_loss: 0.0251 - val_acc: 0.9933\n",
            "Epoch 28/50\n",
            "468/468 [==============================] - 23s 48ms/step - loss: 0.0207 - acc: 0.9934 - val_loss: 0.0258 - val_acc: 0.9918\n",
            "Epoch 29/50\n",
            "468/468 [==============================] - 23s 48ms/step - loss: 0.0213 - acc: 0.9935 - val_loss: 0.0356 - val_acc: 0.9903\n",
            "Epoch 30/50\n",
            "468/468 [==============================] - 23s 48ms/step - loss: 0.0211 - acc: 0.9931 - val_loss: 0.0315 - val_acc: 0.9901\n",
            "Epoch 31/50\n",
            "468/468 [==============================] - 22s 48ms/step - loss: 0.0206 - acc: 0.9932 - val_loss: 0.0259 - val_acc: 0.9933\n",
            "Epoch 32/50\n",
            "468/468 [==============================] - 22s 48ms/step - loss: 0.0217 - acc: 0.9929 - val_loss: 0.0273 - val_acc: 0.9921\n",
            "Epoch 33/50\n",
            "468/468 [==============================] - 23s 48ms/step - loss: 0.0193 - acc: 0.9936 - val_loss: 0.0333 - val_acc: 0.9898\n",
            "Epoch 34/50\n",
            "468/468 [==============================] - 22s 48ms/step - loss: 0.0200 - acc: 0.9931 - val_loss: 0.0225 - val_acc: 0.9932\n",
            "Epoch 35/50\n",
            "468/468 [==============================] - 23s 48ms/step - loss: 0.0208 - acc: 0.9935 - val_loss: 0.0277 - val_acc: 0.9919\n",
            "Epoch 36/50\n",
            "468/468 [==============================] - 23s 48ms/step - loss: 0.0201 - acc: 0.9933 - val_loss: 0.0218 - val_acc: 0.9932\n",
            "Epoch 37/50\n",
            "468/468 [==============================] - 23s 49ms/step - loss: 0.0207 - acc: 0.9934 - val_loss: 0.0271 - val_acc: 0.9927\n",
            "Epoch 38/50\n",
            "468/468 [==============================] - 23s 49ms/step - loss: 0.0190 - acc: 0.9935 - val_loss: 0.0272 - val_acc: 0.9931\n",
            "Epoch 39/50\n",
            "468/468 [==============================] - 23s 49ms/step - loss: 0.0191 - acc: 0.9936 - val_loss: 0.0271 - val_acc: 0.9921\n",
            "Epoch 40/50\n",
            "468/468 [==============================] - 23s 49ms/step - loss: 0.0190 - acc: 0.9940 - val_loss: 0.0196 - val_acc: 0.9932\n",
            "Epoch 41/50\n",
            "468/468 [==============================] - 23s 48ms/step - loss: 0.0204 - acc: 0.9936 - val_loss: 0.0239 - val_acc: 0.9921\n",
            "Epoch 42/50\n",
            "468/468 [==============================] - 23s 48ms/step - loss: 0.0205 - acc: 0.9938 - val_loss: 0.0219 - val_acc: 0.9929\n",
            "Epoch 43/50\n",
            "468/468 [==============================] - 23s 49ms/step - loss: 0.0188 - acc: 0.9935 - val_loss: 0.0249 - val_acc: 0.9925\n",
            "Epoch 44/50\n",
            "468/468 [==============================] - 23s 49ms/step - loss: 0.0187 - acc: 0.9939 - val_loss: 0.0215 - val_acc: 0.9933\n",
            "Epoch 45/50\n",
            "468/468 [==============================] - 23s 49ms/step - loss: 0.0193 - acc: 0.9939 - val_loss: 0.0328 - val_acc: 0.9907\n",
            "Epoch 46/50\n",
            "468/468 [==============================] - 22s 48ms/step - loss: 0.0180 - acc: 0.9941 - val_loss: 0.0251 - val_acc: 0.9924\n",
            "Epoch 47/50\n",
            "468/468 [==============================] - 23s 49ms/step - loss: 0.0178 - acc: 0.9942 - val_loss: 0.0278 - val_acc: 0.9915\n",
            "Epoch 48/50\n",
            "468/468 [==============================] - 23s 48ms/step - loss: 0.0187 - acc: 0.9939 - val_loss: 0.0268 - val_acc: 0.9927\n",
            "Epoch 49/50\n",
            "468/468 [==============================] - 23s 49ms/step - loss: 0.0185 - acc: 0.9940 - val_loss: 0.0290 - val_acc: 0.9916\n",
            "Epoch 50/50\n",
            "468/468 [==============================] - 23s 48ms/step - loss: 0.0181 - acc: 0.9939 - val_loss: 0.0215 - val_acc: 0.9931\n"
          ],
          "name": "stdout"
        }
      ]
    },
    {
      "metadata": {
        "id": "nuJySnVpRXbx",
        "colab_type": "code",
        "outputId": "476e7960-0b8e-469c-aefc-aba07cde6981",
        "colab": {
          "base_uri": "https://localhost:8080/",
          "height": 72
        }
      },
      "cell_type": "code",
      "source": [
        "score = model.evaluate(X_test, Y_test)\n",
        "print()\n",
        "print('Test accuracy: ', score[1])"
      ],
      "execution_count": 0,
      "outputs": [
        {
          "output_type": "stream",
          "text": [
            "10000/10000 [==============================] - 1s 101us/step\n",
            "\n",
            "Test accuracy:  0.993\n"
          ],
          "name": "stdout"
        }
      ]
    },
    {
      "metadata": {
        "id": "AtsH-lLk-eLb",
        "colab_type": "code",
        "colab": {}
      },
      "cell_type": "code",
      "source": [
        "score = model.evaluate(X_test, Y_test, verbose=0)"
      ],
      "execution_count": 0,
      "outputs": []
    },
    {
      "metadata": {
        "id": "mkX8JMv79q9r",
        "colab_type": "code",
        "outputId": "6961a61a-7751-49a4-9294-da8dff713ead",
        "colab": {
          "base_uri": "https://localhost:8080/",
          "height": 35
        }
      },
      "cell_type": "code",
      "source": [
        "print(score)"
      ],
      "execution_count": 0,
      "outputs": [
        {
          "output_type": "stream",
          "text": [
            "[0.024060579517518634, 0.993]\n"
          ],
          "name": "stdout"
        }
      ]
    },
    {
      "metadata": {
        "id": "OCWoJkwE9suh",
        "colab_type": "code",
        "colab": {}
      },
      "cell_type": "code",
      "source": [
        "y_pred = model.predict(X_test)"
      ],
      "execution_count": 0,
      "outputs": []
    },
    {
      "metadata": {
        "id": "Ym7iCFBm9uBs",
        "colab_type": "code",
        "outputId": "f8828add-ba88-4e29-adaa-d0123cbf503f",
        "colab": {
          "base_uri": "https://localhost:8080/",
          "height": 366
        }
      },
      "cell_type": "code",
      "source": [
        "print(y_pred[:9])\n",
        "print(y_test[:9])"
      ],
      "execution_count": 0,
      "outputs": [
        {
          "output_type": "stream",
          "text": [
            "[[1.7787809e-11 3.3920946e-11 1.4321079e-06 5.5202083e-09 7.0594295e-13\n",
            "  5.3529670e-11 5.5972810e-15 9.9999857e-01 1.4445667e-12 1.3700120e-08]\n",
            " [5.1506671e-10 1.7714658e-08 9.9999976e-01 1.6283774e-07 1.8771189e-14\n",
            "  1.7188073e-13 1.2951425e-08 9.8613051e-10 5.9829240e-08 7.4818996e-12]\n",
            " [2.1496635e-07 9.9975866e-01 2.1079556e-08 1.1346560e-09 2.3428311e-04\n",
            "  7.6481666e-07 3.9081007e-07 4.7391386e-06 1.2019231e-07 8.1445131e-07]\n",
            " [9.9977320e-01 2.5673739e-17 1.6809552e-10 1.8948036e-10 1.2272286e-10\n",
            "  1.8305790e-06 2.2310943e-04 6.6534799e-11 2.0387986e-07 1.6833972e-06]\n",
            " [1.3328525e-09 2.3039641e-09 1.0672097e-11 4.5933487e-12 9.9999917e-01\n",
            "  9.9993252e-12 1.2741294e-11 3.4013628e-10 6.1711608e-10 7.8292112e-07]\n",
            " [5.9840090e-08 9.9998093e-01 2.3046884e-08 3.1485026e-11 9.0512294e-06\n",
            "  5.5069029e-09 2.4688232e-08 8.9109890e-06 2.1505394e-07 7.0635900e-07]\n",
            " [1.2084295e-18 4.4015399e-11 7.9279416e-13 4.8560147e-17 9.9999976e-01\n",
            "  2.9969827e-12 9.5963454e-16 1.9808053e-12 4.5316059e-10 2.0098864e-07]\n",
            " [9.5404222e-16 1.6394103e-11 1.5027084e-07 8.4279331e-14 1.2254654e-04\n",
            "  1.2551615e-14 5.6374336e-18 6.7963434e-08 2.9870487e-10 9.9987721e-01]\n",
            " [4.4085152e-12 1.4811015e-20 7.3920573e-13 3.7509475e-12 2.0135940e-15\n",
            "  9.9999309e-01 5.9183380e-06 3.6511951e-18 8.8845411e-07 7.6150792e-09]]\n",
            "[7 2 1 0 4 1 4 9 5]\n"
          ],
          "name": "stdout"
        }
      ]
    },
    {
      "metadata": {
        "id": "CT--y98_dr2T",
        "colab_type": "code",
        "colab": {}
      },
      "cell_type": "code",
      "source": [
        "layer_dict = dict([(layer.name, layer) for layer in model.layers])"
      ],
      "execution_count": 0,
      "outputs": []
    },
    {
      "metadata": {
        "id": "2GY4Upv4dsUR",
        "colab_type": "code",
        "outputId": "c77b8824-42e0-45ac-cf4e-0680b4667228",
        "colab": {
          "base_uri": "https://localhost:8080/",
          "height": 742
        }
      },
      "cell_type": "code",
      "source": [
        "import numpy as np\n",
        "from matplotlib import pyplot as plt\n",
        "from keras import backend as K\n",
        "%matplotlib inline\n",
        "# util function to convert a tensor into a valid image\n",
        "def deprocess_image(x):\n",
        "    # normalize tensor: center on 0., ensure std is 0.1\n",
        "    x -= x.mean()\n",
        "    x /= (x.std() + 1e-5)\n",
        "    x *= 0.1\n",
        "\n",
        "    # clip to [0, 1]\n",
        "    x += 0.5\n",
        "    x = np.clip(x, 0, 1)\n",
        "\n",
        "    # convert to RGB array\n",
        "    x *= 255\n",
        "    #x = x.transpose((1, 2, 0))\n",
        "    x = np.clip(x, 0, 255).astype('uint8')\n",
        "    return x\n",
        "\n",
        "def vis_img_in_filter(img = np.array(X_train[2]).reshape((1, 28, 28, 1)).astype(np.float64), \n",
        "                      layer_name = 'conv2d_41'):\n",
        "    layer_output = layer_dict[layer_name].output\n",
        "    img_ascs = list()\n",
        "    for filter_index in range(layer_output.shape[3]):\n",
        "        # build a loss function that maximizes the activation\n",
        "        # of the nth filter of the layer considered\n",
        "        loss = K.mean(layer_output[:, :, :, filter_index])\n",
        "\n",
        "        # compute the gradient of the input picture wrt this loss\n",
        "        grads = K.gradients(loss, model.input)[0]\n",
        "\n",
        "        # normalization trick: we normalize the gradient\n",
        "        grads /= (K.sqrt(K.mean(K.square(grads))) + 1e-5)\n",
        "\n",
        "        # this function returns the loss and grads given the input picture\n",
        "        iterate = K.function([model.input], [loss, grads])\n",
        "\n",
        "        # step size for gradient ascent\n",
        "        step = 5.\n",
        "\n",
        "        img_asc = np.array(img)\n",
        "        # run gradient ascent for 20 steps\n",
        "        for i in range(20):\n",
        "            loss_value, grads_value = iterate([img_asc])\n",
        "            img_asc += grads_value * step\n",
        "\n",
        "        img_asc = img_asc[0]\n",
        "        img_ascs.append(deprocess_image(img_asc).reshape((28, 28)))\n",
        "        \n",
        "    if layer_output.shape[3] >= 35:\n",
        "        plot_x, plot_y = 6, 6\n",
        "    elif layer_output.shape[3] >= 23:\n",
        "        plot_x, plot_y = 4, 6\n",
        "    elif layer_output.shape[3] >= 11:\n",
        "        plot_x, plot_y = 2, 6\n",
        "    else:\n",
        "        plot_x, plot_y = 1, 2\n",
        "    fig, ax = plt.subplots(plot_x, plot_y, figsize = (12, 12))\n",
        "    ax[0, 0].imshow(img.reshape((28, 28)), cmap = 'gray')\n",
        "    ax[0, 0].set_title('Input image')\n",
        "    fig.suptitle('Input image and %s filters' % (layer_name,))\n",
        "    fig.tight_layout(pad = 0.3, rect = [0, 0, 0.9, 0.9])\n",
        "    for (x, y) in [(i, j) for i in range(plot_x) for j in range(plot_y)]:\n",
        "        if x == 0 and y == 0:\n",
        "            continue\n",
        "        ax[x, y].imshow(img_ascs[x * plot_y + y - 1], cmap = 'gray')\n",
        "        ax[x, y].set_title('filter %d' % (x * plot_y + y - 1))\n",
        "\n",
        "vis_img_in_filter()"
      ],
      "execution_count": 0,
      "outputs": [
        {
          "output_type": "display_data",
          "data": {
            "image/png": "[encoded data removed]",
            "text/plain": [
              "<Figure size 864x864 with 12 Axes>"
            ]
          },
          "metadata": {
            "tags": []
          }
        }
      ]
    }
  ]
}